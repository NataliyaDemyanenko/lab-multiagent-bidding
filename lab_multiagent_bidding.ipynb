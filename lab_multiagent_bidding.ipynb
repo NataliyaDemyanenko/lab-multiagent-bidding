{
  "cells": [
    {
      "cell_type": "markdown",
      "metadata": {
        "id": "gqYxr0SWMLOF"
      },
      "source": [
        "# Lab | Multi-agent bidding"
      ]
    },
    {
      "cell_type": "markdown",
      "metadata": {
        "id": "jz31uWfdMLOG"
      },
      "source": [
        "# Multi-agent decentralized speaker selection\n",
        "\n",
        "This notebook showcases how to implement a multi-agent simulation without a fixed schedule for who speaks when. Instead the agents decide for themselves who speaks. We can implement this by having each agent bid to speak. Whichever agent's bid is the highest gets to speak.\n",
        "\n",
        "We will show how to do this in the example below that showcases a fictitious presidential debate."
      ]
    },
    {
      "cell_type": "markdown",
      "metadata": {
        "id": "WMbY1Rl4MLOG"
      },
      "source": [
        "## Import LangChain related modules"
      ]
    },
    {
      "cell_type": "code",
      "source": [
        "!pip install langchain"
      ],
      "metadata": {
        "colab": {
          "base_uri": "https://localhost:8080/"
        },
        "id": "BCT-LBwdMVk1",
        "outputId": "e5a30d35-7caa-41e8-d89f-b2bf5068eea0"
      },
      "execution_count": 2,
      "outputs": [
        {
          "output_type": "stream",
          "name": "stdout",
          "text": [
            "Collecting langchain\n",
            "  Downloading langchain-0.2.6-py3-none-any.whl (975 kB)\n",
            "\u001b[2K     \u001b[90m━━━━━━━━━━━━━━━━━━━━━━━━━━━━━━━━━━━━━━━━\u001b[0m \u001b[32m975.5/975.5 kB\u001b[0m \u001b[31m16.6 MB/s\u001b[0m eta \u001b[36m0:00:00\u001b[0m\n",
            "\u001b[?25hRequirement already satisfied: PyYAML>=5.3 in /usr/local/lib/python3.10/dist-packages (from langchain) (6.0.1)\n",
            "Requirement already satisfied: SQLAlchemy<3,>=1.4 in /usr/local/lib/python3.10/dist-packages (from langchain) (2.0.31)\n",
            "Requirement already satisfied: aiohttp<4.0.0,>=3.8.3 in /usr/local/lib/python3.10/dist-packages (from langchain) (3.9.5)\n",
            "Requirement already satisfied: async-timeout<5.0.0,>=4.0.0 in /usr/local/lib/python3.10/dist-packages (from langchain) (4.0.3)\n",
            "Collecting langchain-core<0.3.0,>=0.2.10 (from langchain)\n",
            "  Downloading langchain_core-0.2.11-py3-none-any.whl (337 kB)\n",
            "\u001b[2K     \u001b[90m━━━━━━━━━━━━━━━━━━━━━━━━━━━━━━━━━━━━━━━━\u001b[0m \u001b[32m337.4/337.4 kB\u001b[0m \u001b[31m26.6 MB/s\u001b[0m eta \u001b[36m0:00:00\u001b[0m\n",
            "\u001b[?25hCollecting langchain-text-splitters<0.3.0,>=0.2.0 (from langchain)\n",
            "  Downloading langchain_text_splitters-0.2.2-py3-none-any.whl (25 kB)\n",
            "Collecting langsmith<0.2.0,>=0.1.17 (from langchain)\n",
            "  Downloading langsmith-0.1.83-py3-none-any.whl (127 kB)\n",
            "\u001b[2K     \u001b[90m━━━━━━━━━━━━━━━━━━━━━━━━━━━━━━━━━━━━━━━━\u001b[0m \u001b[32m127.5/127.5 kB\u001b[0m \u001b[31m15.0 MB/s\u001b[0m eta \u001b[36m0:00:00\u001b[0m\n",
            "\u001b[?25hRequirement already satisfied: numpy<2,>=1 in /usr/local/lib/python3.10/dist-packages (from langchain) (1.25.2)\n",
            "Requirement already satisfied: pydantic<3,>=1 in /usr/local/lib/python3.10/dist-packages (from langchain) (2.7.4)\n",
            "Requirement already satisfied: requests<3,>=2 in /usr/local/lib/python3.10/dist-packages (from langchain) (2.31.0)\n",
            "Requirement already satisfied: tenacity!=8.4.0,<9.0.0,>=8.1.0 in /usr/local/lib/python3.10/dist-packages (from langchain) (8.4.2)\n",
            "Requirement already satisfied: aiosignal>=1.1.2 in /usr/local/lib/python3.10/dist-packages (from aiohttp<4.0.0,>=3.8.3->langchain) (1.3.1)\n",
            "Requirement already satisfied: attrs>=17.3.0 in /usr/local/lib/python3.10/dist-packages (from aiohttp<4.0.0,>=3.8.3->langchain) (23.2.0)\n",
            "Requirement already satisfied: frozenlist>=1.1.1 in /usr/local/lib/python3.10/dist-packages (from aiohttp<4.0.0,>=3.8.3->langchain) (1.4.1)\n",
            "Requirement already satisfied: multidict<7.0,>=4.5 in /usr/local/lib/python3.10/dist-packages (from aiohttp<4.0.0,>=3.8.3->langchain) (6.0.5)\n",
            "Requirement already satisfied: yarl<2.0,>=1.0 in /usr/local/lib/python3.10/dist-packages (from aiohttp<4.0.0,>=3.8.3->langchain) (1.9.4)\n",
            "Collecting jsonpatch<2.0,>=1.33 (from langchain-core<0.3.0,>=0.2.10->langchain)\n",
            "  Downloading jsonpatch-1.33-py2.py3-none-any.whl (12 kB)\n",
            "Requirement already satisfied: packaging<25,>=23.2 in /usr/local/lib/python3.10/dist-packages (from langchain-core<0.3.0,>=0.2.10->langchain) (24.1)\n",
            "Collecting orjson<4.0.0,>=3.9.14 (from langsmith<0.2.0,>=0.1.17->langchain)\n",
            "  Downloading orjson-3.10.6-cp310-cp310-manylinux_2_17_x86_64.manylinux2014_x86_64.whl (141 kB)\n",
            "\u001b[2K     \u001b[90m━━━━━━━━━━━━━━━━━━━━━━━━━━━━━━━━━━━━━━━━\u001b[0m \u001b[32m141.1/141.1 kB\u001b[0m \u001b[31m873.2 kB/s\u001b[0m eta \u001b[36m0:00:00\u001b[0m\n",
            "\u001b[?25hRequirement already satisfied: annotated-types>=0.4.0 in /usr/local/lib/python3.10/dist-packages (from pydantic<3,>=1->langchain) (0.7.0)\n",
            "Requirement already satisfied: pydantic-core==2.18.4 in /usr/local/lib/python3.10/dist-packages (from pydantic<3,>=1->langchain) (2.18.4)\n",
            "Requirement already satisfied: typing-extensions>=4.6.1 in /usr/local/lib/python3.10/dist-packages (from pydantic<3,>=1->langchain) (4.12.2)\n",
            "Requirement already satisfied: charset-normalizer<4,>=2 in /usr/local/lib/python3.10/dist-packages (from requests<3,>=2->langchain) (3.3.2)\n",
            "Requirement already satisfied: idna<4,>=2.5 in /usr/local/lib/python3.10/dist-packages (from requests<3,>=2->langchain) (3.7)\n",
            "Requirement already satisfied: urllib3<3,>=1.21.1 in /usr/local/lib/python3.10/dist-packages (from requests<3,>=2->langchain) (2.0.7)\n",
            "Requirement already satisfied: certifi>=2017.4.17 in /usr/local/lib/python3.10/dist-packages (from requests<3,>=2->langchain) (2024.6.2)\n",
            "Requirement already satisfied: greenlet!=0.4.17 in /usr/local/lib/python3.10/dist-packages (from SQLAlchemy<3,>=1.4->langchain) (3.0.3)\n",
            "Collecting jsonpointer>=1.9 (from jsonpatch<2.0,>=1.33->langchain-core<0.3.0,>=0.2.10->langchain)\n",
            "  Downloading jsonpointer-3.0.0-py2.py3-none-any.whl (7.6 kB)\n",
            "Installing collected packages: orjson, jsonpointer, jsonpatch, langsmith, langchain-core, langchain-text-splitters, langchain\n",
            "Successfully installed jsonpatch-1.33 jsonpointer-3.0.0 langchain-0.2.6 langchain-core-0.2.11 langchain-text-splitters-0.2.2 langsmith-0.1.83 orjson-3.10.6\n"
          ]
        }
      ]
    },
    {
      "cell_type": "code",
      "source": [
        "!pip install langchain-openai"
      ],
      "metadata": {
        "colab": {
          "base_uri": "https://localhost:8080/"
        },
        "id": "rGPCE8pxMf1C",
        "outputId": "f2756ecb-c4fa-448a-c51d-1f67b24de499"
      },
      "execution_count": 4,
      "outputs": [
        {
          "output_type": "stream",
          "name": "stdout",
          "text": [
            "Collecting langchain-openai\n",
            "  Downloading langchain_openai-0.1.14-py3-none-any.whl (45 kB)\n",
            "\u001b[?25l     \u001b[90m━━━━━━━━━━━━━━━━━━━━━━━━━━━━━━━━━━━━━━━━\u001b[0m \u001b[32m0.0/45.9 kB\u001b[0m \u001b[31m?\u001b[0m eta \u001b[36m-:--:--\u001b[0m\r\u001b[2K     \u001b[90m━━━━━━━━━━━━━━━━━━━━━━━━━━━━━━━━━━━━━━━━\u001b[0m \u001b[32m45.9/45.9 kB\u001b[0m \u001b[31m1.8 MB/s\u001b[0m eta \u001b[36m0:00:00\u001b[0m\n",
            "\u001b[?25hRequirement already satisfied: langchain-core<0.3,>=0.2.2 in /usr/local/lib/python3.10/dist-packages (from langchain-openai) (0.2.11)\n",
            "Collecting openai<2.0.0,>=1.32.0 (from langchain-openai)\n",
            "  Downloading openai-1.35.9-py3-none-any.whl (328 kB)\n",
            "\u001b[2K     \u001b[90m━━━━━━━━━━━━━━━━━━━━━━━━━━━━━━━━━━━━━━━━\u001b[0m \u001b[32m328.3/328.3 kB\u001b[0m \u001b[31m16.1 MB/s\u001b[0m eta \u001b[36m0:00:00\u001b[0m\n",
            "\u001b[?25hCollecting tiktoken<1,>=0.7 (from langchain-openai)\n",
            "  Downloading tiktoken-0.7.0-cp310-cp310-manylinux_2_17_x86_64.manylinux2014_x86_64.whl (1.1 MB)\n",
            "\u001b[2K     \u001b[90m━━━━━━━━━━━━━━━━━━━━━━━━━━━━━━━━━━━━━━━━\u001b[0m \u001b[32m1.1/1.1 MB\u001b[0m \u001b[31m51.4 MB/s\u001b[0m eta \u001b[36m0:00:00\u001b[0m\n",
            "\u001b[?25hRequirement already satisfied: PyYAML>=5.3 in /usr/local/lib/python3.10/dist-packages (from langchain-core<0.3,>=0.2.2->langchain-openai) (6.0.1)\n",
            "Requirement already satisfied: jsonpatch<2.0,>=1.33 in /usr/local/lib/python3.10/dist-packages (from langchain-core<0.3,>=0.2.2->langchain-openai) (1.33)\n",
            "Requirement already satisfied: langsmith<0.2.0,>=0.1.75 in /usr/local/lib/python3.10/dist-packages (from langchain-core<0.3,>=0.2.2->langchain-openai) (0.1.83)\n",
            "Requirement already satisfied: packaging<25,>=23.2 in /usr/local/lib/python3.10/dist-packages (from langchain-core<0.3,>=0.2.2->langchain-openai) (24.1)\n",
            "Requirement already satisfied: pydantic<3,>=1 in /usr/local/lib/python3.10/dist-packages (from langchain-core<0.3,>=0.2.2->langchain-openai) (2.7.4)\n",
            "Requirement already satisfied: tenacity!=8.4.0,<9.0.0,>=8.1.0 in /usr/local/lib/python3.10/dist-packages (from langchain-core<0.3,>=0.2.2->langchain-openai) (8.4.2)\n",
            "Requirement already satisfied: anyio<5,>=3.5.0 in /usr/local/lib/python3.10/dist-packages (from openai<2.0.0,>=1.32.0->langchain-openai) (3.7.1)\n",
            "Requirement already satisfied: distro<2,>=1.7.0 in /usr/lib/python3/dist-packages (from openai<2.0.0,>=1.32.0->langchain-openai) (1.7.0)\n",
            "Collecting httpx<1,>=0.23.0 (from openai<2.0.0,>=1.32.0->langchain-openai)\n",
            "  Downloading httpx-0.27.0-py3-none-any.whl (75 kB)\n",
            "\u001b[2K     \u001b[90m━━━━━━━━━━━━━━━━━━━━━━━━━━━━━━━━━━━━━━━━\u001b[0m \u001b[32m75.6/75.6 kB\u001b[0m \u001b[31m7.6 MB/s\u001b[0m eta \u001b[36m0:00:00\u001b[0m\n",
            "\u001b[?25hRequirement already satisfied: sniffio in /usr/local/lib/python3.10/dist-packages (from openai<2.0.0,>=1.32.0->langchain-openai) (1.3.1)\n",
            "Requirement already satisfied: tqdm>4 in /usr/local/lib/python3.10/dist-packages (from openai<2.0.0,>=1.32.0->langchain-openai) (4.66.4)\n",
            "Requirement already satisfied: typing-extensions<5,>=4.7 in /usr/local/lib/python3.10/dist-packages (from openai<2.0.0,>=1.32.0->langchain-openai) (4.12.2)\n",
            "Requirement already satisfied: regex>=2022.1.18 in /usr/local/lib/python3.10/dist-packages (from tiktoken<1,>=0.7->langchain-openai) (2024.5.15)\n",
            "Requirement already satisfied: requests>=2.26.0 in /usr/local/lib/python3.10/dist-packages (from tiktoken<1,>=0.7->langchain-openai) (2.31.0)\n",
            "Requirement already satisfied: idna>=2.8 in /usr/local/lib/python3.10/dist-packages (from anyio<5,>=3.5.0->openai<2.0.0,>=1.32.0->langchain-openai) (3.7)\n",
            "Requirement already satisfied: exceptiongroup in /usr/local/lib/python3.10/dist-packages (from anyio<5,>=3.5.0->openai<2.0.0,>=1.32.0->langchain-openai) (1.2.1)\n",
            "Requirement already satisfied: certifi in /usr/local/lib/python3.10/dist-packages (from httpx<1,>=0.23.0->openai<2.0.0,>=1.32.0->langchain-openai) (2024.6.2)\n",
            "Collecting httpcore==1.* (from httpx<1,>=0.23.0->openai<2.0.0,>=1.32.0->langchain-openai)\n",
            "  Downloading httpcore-1.0.5-py3-none-any.whl (77 kB)\n",
            "\u001b[2K     \u001b[90m━━━━━━━━━━━━━━━━━━━━━━━━━━━━━━━━━━━━━━━━\u001b[0m \u001b[32m77.9/77.9 kB\u001b[0m \u001b[31m11.2 MB/s\u001b[0m eta \u001b[36m0:00:00\u001b[0m\n",
            "\u001b[?25hCollecting h11<0.15,>=0.13 (from httpcore==1.*->httpx<1,>=0.23.0->openai<2.0.0,>=1.32.0->langchain-openai)\n",
            "  Downloading h11-0.14.0-py3-none-any.whl (58 kB)\n",
            "\u001b[2K     \u001b[90m━━━━━━━━━━━━━━━━━━━━━━━━━━━━━━━━━━━━━━━━\u001b[0m \u001b[32m58.3/58.3 kB\u001b[0m \u001b[31m8.3 MB/s\u001b[0m eta \u001b[36m0:00:00\u001b[0m\n",
            "\u001b[?25hRequirement already satisfied: jsonpointer>=1.9 in /usr/local/lib/python3.10/dist-packages (from jsonpatch<2.0,>=1.33->langchain-core<0.3,>=0.2.2->langchain-openai) (3.0.0)\n",
            "Requirement already satisfied: orjson<4.0.0,>=3.9.14 in /usr/local/lib/python3.10/dist-packages (from langsmith<0.2.0,>=0.1.75->langchain-core<0.3,>=0.2.2->langchain-openai) (3.10.6)\n",
            "Requirement already satisfied: annotated-types>=0.4.0 in /usr/local/lib/python3.10/dist-packages (from pydantic<3,>=1->langchain-core<0.3,>=0.2.2->langchain-openai) (0.7.0)\n",
            "Requirement already satisfied: pydantic-core==2.18.4 in /usr/local/lib/python3.10/dist-packages (from pydantic<3,>=1->langchain-core<0.3,>=0.2.2->langchain-openai) (2.18.4)\n",
            "Requirement already satisfied: charset-normalizer<4,>=2 in /usr/local/lib/python3.10/dist-packages (from requests>=2.26.0->tiktoken<1,>=0.7->langchain-openai) (3.3.2)\n",
            "Requirement already satisfied: urllib3<3,>=1.21.1 in /usr/local/lib/python3.10/dist-packages (from requests>=2.26.0->tiktoken<1,>=0.7->langchain-openai) (2.0.7)\n",
            "Installing collected packages: h11, tiktoken, httpcore, httpx, openai, langchain-openai\n",
            "Successfully installed h11-0.14.0 httpcore-1.0.5 httpx-0.27.0 langchain-openai-0.1.14 openai-1.35.9 tiktoken-0.7.0\n"
          ]
        }
      ]
    },
    {
      "cell_type": "code",
      "execution_count": 5,
      "metadata": {
        "id": "H5wKhVkCMLOH"
      },
      "outputs": [],
      "source": [
        "from typing import Callable, List\n",
        "\n",
        "import tenacity\n",
        "from langchain.output_parsers import RegexParser\n",
        "from langchain.prompts import PromptTemplate\n",
        "from langchain.schema import (\n",
        "    HumanMessage,\n",
        "    SystemMessage,\n",
        ")\n",
        "from langchain_openai import ChatOpenAI"
      ]
    },
    {
      "cell_type": "code",
      "source": [
        "import os\n",
        "from google.colab import userdata"
      ],
      "metadata": {
        "id": "yYWtUEi9MlH1"
      },
      "execution_count": 7,
      "outputs": []
    },
    {
      "cell_type": "code",
      "source": [
        "OPENAI_API_KEY  = userdata.get('IronAPI')"
      ],
      "metadata": {
        "id": "cqffk28wMo7t"
      },
      "execution_count": 9,
      "outputs": []
    },
    {
      "cell_type": "code",
      "execution_count": 10,
      "metadata": {
        "tags": [],
        "id": "C9VpbgggMLOH"
      },
      "outputs": [],
      "source": [
        "#import os\n",
        "#from dotenv import load_dotenv, find_dotenv\n",
        "#_ = load_dotenv(find_dotenv())\n",
        "\n",
        "#OPENAI_API_KEY  = os.getenv('OPENAI_API_KEY')"
      ]
    },
    {
      "cell_type": "markdown",
      "metadata": {
        "id": "bPgiWMLmMLOH"
      },
      "source": [
        "## `DialogueAgent` and `DialogueSimulator` classes\n",
        "We will use the same `DialogueAgent` and `DialogueSimulator` classes defined in [Multi-Player Dungeons & Dragons](https://python.langchain.com/en/latest/use_cases/agent_simulations/multi_player_dnd.html)."
      ]
    },
    {
      "cell_type": "code",
      "execution_count": 11,
      "metadata": {
        "id": "6ZXQ7BuqMLOH"
      },
      "outputs": [],
      "source": [
        "class DialogueAgent:\n",
        "    def __init__(\n",
        "        self,\n",
        "        name: str,\n",
        "        system_message: SystemMessage,\n",
        "        model: ChatOpenAI,\n",
        "    ) -> None:\n",
        "        self.name = name\n",
        "        self.system_message = system_message\n",
        "        self.model = model\n",
        "        self.prefix = f\"{self.name}: \"\n",
        "        self.reset()\n",
        "\n",
        "    def reset(self):\n",
        "        self.message_history = [\"Here is the conversation so far.\"]\n",
        "\n",
        "    def send(self) -> str:\n",
        "        \"\"\"\n",
        "        Applies the chatmodel to the message history\n",
        "        and returns the message string\n",
        "        \"\"\"\n",
        "        message = self.model.invoke(\n",
        "            [\n",
        "                self.system_message,\n",
        "                HumanMessage(content=\"\\n\".join(self.message_history + [self.prefix])),\n",
        "            ]\n",
        "        )\n",
        "        return message.content\n",
        "\n",
        "    def receive(self, name: str, message: str) -> None:\n",
        "        \"\"\"\n",
        "        Concatenates {message} spoken by {name} into message history\n",
        "        \"\"\"\n",
        "        self.message_history.append(f\"{name}: {message}\")\n",
        "\n",
        "\n",
        "class DialogueSimulator:\n",
        "    def __init__(\n",
        "        self,\n",
        "        agents: List[DialogueAgent],\n",
        "        selection_function: Callable[[int, List[DialogueAgent]], int],\n",
        "    ) -> None:\n",
        "        self.agents = agents\n",
        "        self._step = 0\n",
        "        self.select_next_speaker = selection_function\n",
        "\n",
        "    def reset(self):\n",
        "        for agent in self.agents:\n",
        "            agent.reset()\n",
        "\n",
        "    def inject(self, name: str, message: str):\n",
        "        \"\"\"\n",
        "        Initiates the conversation with a {message} from {name}\n",
        "        \"\"\"\n",
        "        for agent in self.agents:\n",
        "            agent.receive(name, message)\n",
        "\n",
        "        # increment time\n",
        "        self._step += 1\n",
        "\n",
        "    def step(self) -> tuple[str, str]:\n",
        "        # 1. choose the next speaker\n",
        "        speaker_idx = self.select_next_speaker(self._step, self.agents)\n",
        "        speaker = self.agents[speaker_idx]\n",
        "\n",
        "        # 2. next speaker sends message\n",
        "        message = speaker.send()\n",
        "\n",
        "        # 3. everyone receives message\n",
        "        for receiver in self.agents:\n",
        "            receiver.receive(speaker.name, message)\n",
        "\n",
        "        # 4. increment time\n",
        "        self._step += 1\n",
        "\n",
        "        return speaker.name, message"
      ]
    },
    {
      "cell_type": "markdown",
      "metadata": {
        "id": "THeYWc5SMLOI"
      },
      "source": [
        "## `BiddingDialogueAgent` class\n",
        "We define a subclass of `DialogueAgent` that has a `bid()` method that produces a bid given the message history and the most recent message."
      ]
    },
    {
      "cell_type": "code",
      "execution_count": 12,
      "metadata": {
        "id": "_Uncdd_xMLOI"
      },
      "outputs": [],
      "source": [
        "class BiddingDialogueAgent(DialogueAgent):\n",
        "    def __init__(\n",
        "        self,\n",
        "        name,\n",
        "        system_message: SystemMessage,\n",
        "        bidding_template: PromptTemplate,\n",
        "        model: ChatOpenAI,\n",
        "    ) -> None:\n",
        "        super().__init__(name, system_message, model)\n",
        "        self.bidding_template = bidding_template\n",
        "\n",
        "    def bid(self) -> str:\n",
        "        \"\"\"\n",
        "        Asks the chat model to output a bid to speak\n",
        "        \"\"\"\n",
        "        prompt = PromptTemplate(\n",
        "            input_variables=[\"message_history\", \"recent_message\"],\n",
        "            template=self.bidding_template,\n",
        "        ).format(\n",
        "            message_history=\"\\n\".join(self.message_history),\n",
        "            recent_message=self.message_history[-1],\n",
        "        )\n",
        "        bid_string = self.model.invoke([SystemMessage(content=prompt)]).content\n",
        "        return bid_string"
      ]
    },
    {
      "cell_type": "markdown",
      "metadata": {
        "id": "cFEQiRGaMLOI"
      },
      "source": [
        "## Define participants and debate topic"
      ]
    },
    {
      "cell_type": "code",
      "execution_count": 13,
      "metadata": {
        "id": "rR7oxsmjMLOI"
      },
      "outputs": [],
      "source": [
        "character_names = [\"Donald Trump\", \"Kanye West\", \"Elizabeth Warren\"]\n",
        "topic = \"transcontinental high speed rail\"\n",
        "word_limit = 50"
      ]
    },
    {
      "cell_type": "markdown",
      "metadata": {
        "id": "0iBqoqu_MLOI"
      },
      "source": [
        "## Generate system messages"
      ]
    },
    {
      "cell_type": "code",
      "execution_count": 15,
      "metadata": {
        "colab": {
          "base_uri": "https://localhost:8080/"
        },
        "id": "NFwcX73MMLOI",
        "outputId": "a83fe479-b42c-4fc8-cb52-3bcd393fb08a"
      },
      "outputs": [
        {
          "output_type": "stream",
          "name": "stderr",
          "text": [
            "/usr/local/lib/python3.10/dist-packages/langchain_core/_api/deprecation.py:139: LangChainDeprecationWarning: The method `BaseChatModel.__call__` was deprecated in langchain-core 0.1.7 and will be removed in 0.3.0. Use invoke instead.\n",
            "  warn_deprecated(\n"
          ]
        }
      ],
      "source": [
        "game_description = f\"\"\"Here is the topic for the presidential debate: {topic}.\n",
        "The presidential candidates are: {', '.join(character_names)}.\"\"\"\n",
        "\n",
        "player_descriptor_system_message = SystemMessage(\n",
        "    content=\"You can add detail to the description of each presidential candidate.\"\n",
        ")\n",
        "\n",
        "\n",
        "def generate_character_description(character_name):\n",
        "    character_specifier_prompt = [\n",
        "        player_descriptor_system_message,\n",
        "        HumanMessage(\n",
        "            content=f\"\"\"{game_description}\n",
        "            Please reply with a creative description of the presidential candidate, {character_name}, in {word_limit} words or less, that emphasizes their personalities.\n",
        "            Speak directly to {character_name}.\n",
        "            Do not add anything else.\"\"\"\n",
        "        ),\n",
        "    ]\n",
        "    character_description = ChatOpenAI(openai_api_key=OPENAI_API_KEY, temperature=1.0)(\n",
        "        character_specifier_prompt\n",
        "    ).content\n",
        "    return character_description\n",
        "\n",
        "\n",
        "def generate_character_header(character_name, character_description):\n",
        "    return f\"\"\"{game_description}\n",
        "Your name is {character_name}.\n",
        "You are a presidential candidate.\n",
        "Your description is as follows: {character_description}\n",
        "You are debating the topic: {topic}.\n",
        "Your goal is to be as creative as possible and make the voters think you are the best candidate.\n",
        "\"\"\"\n",
        "\n",
        "\n",
        "def generate_character_system_message(character_name, character_header):\n",
        "    return SystemMessage(\n",
        "        content=(\n",
        "            f\"\"\"{character_header}\n",
        "You will speak in the style of {character_name}, and exaggerate their personality.\n",
        "You will come up with creative ideas related to {topic}.\n",
        "Do not say the same things over and over again.\n",
        "Speak in the first person from the perspective of {character_name}\n",
        "For describing your own body movements, wrap your description in '*'.\n",
        "Do not change roles!\n",
        "Do not speak from the perspective of anyone else.\n",
        "Speak only from the perspective of {character_name}.\n",
        "Stop speaking the moment you finish speaking from your perspective.\n",
        "Never forget to keep your response to {word_limit} words!\n",
        "Do not add anything else.\n",
        "    \"\"\"\n",
        "        )\n",
        "    )\n",
        "\n",
        "\n",
        "character_descriptions = [\n",
        "    generate_character_description(character_name) for character_name in character_names\n",
        "]\n",
        "character_headers = [\n",
        "    generate_character_header(character_name, character_description)\n",
        "    for character_name, character_description in zip(\n",
        "        character_names, character_descriptions\n",
        "    )\n",
        "]\n",
        "character_system_messages = [\n",
        "    generate_character_system_message(character_name, character_headers)\n",
        "    for character_name, character_headers in zip(character_names, character_headers)\n",
        "]"
      ]
    },
    {
      "cell_type": "code",
      "execution_count": 16,
      "metadata": {
        "colab": {
          "base_uri": "https://localhost:8080/"
        },
        "id": "ZcbrUmhnMLOJ",
        "outputId": "fb7fca21-b250-4f64-e725-95f93026d727"
      },
      "outputs": [
        {
          "output_type": "stream",
          "name": "stdout",
          "text": [
            "\n",
            "\n",
            "Donald Trump Description:\n",
            "\n",
            "Donald Trump: You are known for your bold and outspoken nature, often making headlines with your controversial statements. Your confident demeanor and business background have garnered both strong supporters and fierce critics. Keep those traits in mind as you approach the discussion on transcontinental high speed rail.\n",
            "\n",
            "Here is the topic for the presidential debate: transcontinental high speed rail.\n",
            "The presidential candidates are: Donald Trump, Kanye West, Elizabeth Warren.\n",
            "Your name is Donald Trump.\n",
            "You are a presidential candidate.\n",
            "Your description is as follows: Donald Trump: You are known for your bold and outspoken nature, often making headlines with your controversial statements. Your confident demeanor and business background have garnered both strong supporters and fierce critics. Keep those traits in mind as you approach the discussion on transcontinental high speed rail.\n",
            "You are debating the topic: transcontinental high speed rail.\n",
            "Your goal is to be as creative as possible and make the voters think you are the best candidate.\n",
            "\n",
            "\n",
            "Here is the topic for the presidential debate: transcontinental high speed rail.\n",
            "The presidential candidates are: Donald Trump, Kanye West, Elizabeth Warren.\n",
            "Your name is Donald Trump.\n",
            "You are a presidential candidate.\n",
            "Your description is as follows: Donald Trump: You are known for your bold and outspoken nature, often making headlines with your controversial statements. Your confident demeanor and business background have garnered both strong supporters and fierce critics. Keep those traits in mind as you approach the discussion on transcontinental high speed rail.\n",
            "You are debating the topic: transcontinental high speed rail.\n",
            "Your goal is to be as creative as possible and make the voters think you are the best candidate.\n",
            "\n",
            "You will speak in the style of Donald Trump, and exaggerate their personality.\n",
            "You will come up with creative ideas related to transcontinental high speed rail.\n",
            "Do not say the same things over and over again.\n",
            "Speak in the first person from the perspective of Donald Trump\n",
            "For describing your own body movements, wrap your description in '*'.\n",
            "Do not change roles!\n",
            "Do not speak from the perspective of anyone else.\n",
            "Speak only from the perspective of Donald Trump.\n",
            "Stop speaking the moment you finish speaking from your perspective.\n",
            "Never forget to keep your response to 50 words!\n",
            "Do not add anything else.\n",
            "    \n",
            "\n",
            "\n",
            "Kanye West Description:\n",
            "\n",
            "Kanye West: An enigmatic visionary, your bold creativity and passion have shaped the world of music and fashion. Your unapologetic confidence and unconventional approach make you a true provocateur. How will you channel your innovative spirit to tackle the challenges of governance?\n",
            "\n",
            "Here is the topic for the presidential debate: transcontinental high speed rail.\n",
            "The presidential candidates are: Donald Trump, Kanye West, Elizabeth Warren.\n",
            "Your name is Kanye West.\n",
            "You are a presidential candidate.\n",
            "Your description is as follows: Kanye West: An enigmatic visionary, your bold creativity and passion have shaped the world of music and fashion. Your unapologetic confidence and unconventional approach make you a true provocateur. How will you channel your innovative spirit to tackle the challenges of governance?\n",
            "You are debating the topic: transcontinental high speed rail.\n",
            "Your goal is to be as creative as possible and make the voters think you are the best candidate.\n",
            "\n",
            "\n",
            "Here is the topic for the presidential debate: transcontinental high speed rail.\n",
            "The presidential candidates are: Donald Trump, Kanye West, Elizabeth Warren.\n",
            "Your name is Kanye West.\n",
            "You are a presidential candidate.\n",
            "Your description is as follows: Kanye West: An enigmatic visionary, your bold creativity and passion have shaped the world of music and fashion. Your unapologetic confidence and unconventional approach make you a true provocateur. How will you channel your innovative spirit to tackle the challenges of governance?\n",
            "You are debating the topic: transcontinental high speed rail.\n",
            "Your goal is to be as creative as possible and make the voters think you are the best candidate.\n",
            "\n",
            "You will speak in the style of Kanye West, and exaggerate their personality.\n",
            "You will come up with creative ideas related to transcontinental high speed rail.\n",
            "Do not say the same things over and over again.\n",
            "Speak in the first person from the perspective of Kanye West\n",
            "For describing your own body movements, wrap your description in '*'.\n",
            "Do not change roles!\n",
            "Do not speak from the perspective of anyone else.\n",
            "Speak only from the perspective of Kanye West.\n",
            "Stop speaking the moment you finish speaking from your perspective.\n",
            "Never forget to keep your response to 50 words!\n",
            "Do not add anything else.\n",
            "    \n",
            "\n",
            "\n",
            "Elizabeth Warren Description:\n",
            "\n",
            "Dear Elizabeth Warren,\n",
            "You exude intelligence, compassion, and strength. Your unwavering dedication to fighting for economic equality and justice sets you apart. Your determination to hold powerful corporations accountable resonates with many. Your passion for change is both inspiring and admirable. \n",
            "Sincerely, [Your Name]\n",
            "\n",
            "Here is the topic for the presidential debate: transcontinental high speed rail.\n",
            "The presidential candidates are: Donald Trump, Kanye West, Elizabeth Warren.\n",
            "Your name is Elizabeth Warren.\n",
            "You are a presidential candidate.\n",
            "Your description is as follows: Dear Elizabeth Warren,\n",
            "You exude intelligence, compassion, and strength. Your unwavering dedication to fighting for economic equality and justice sets you apart. Your determination to hold powerful corporations accountable resonates with many. Your passion for change is both inspiring and admirable. \n",
            "Sincerely, [Your Name]\n",
            "You are debating the topic: transcontinental high speed rail.\n",
            "Your goal is to be as creative as possible and make the voters think you are the best candidate.\n",
            "\n",
            "\n",
            "Here is the topic for the presidential debate: transcontinental high speed rail.\n",
            "The presidential candidates are: Donald Trump, Kanye West, Elizabeth Warren.\n",
            "Your name is Elizabeth Warren.\n",
            "You are a presidential candidate.\n",
            "Your description is as follows: Dear Elizabeth Warren,\n",
            "You exude intelligence, compassion, and strength. Your unwavering dedication to fighting for economic equality and justice sets you apart. Your determination to hold powerful corporations accountable resonates with many. Your passion for change is both inspiring and admirable. \n",
            "Sincerely, [Your Name]\n",
            "You are debating the topic: transcontinental high speed rail.\n",
            "Your goal is to be as creative as possible and make the voters think you are the best candidate.\n",
            "\n",
            "You will speak in the style of Elizabeth Warren, and exaggerate their personality.\n",
            "You will come up with creative ideas related to transcontinental high speed rail.\n",
            "Do not say the same things over and over again.\n",
            "Speak in the first person from the perspective of Elizabeth Warren\n",
            "For describing your own body movements, wrap your description in '*'.\n",
            "Do not change roles!\n",
            "Do not speak from the perspective of anyone else.\n",
            "Speak only from the perspective of Elizabeth Warren.\n",
            "Stop speaking the moment you finish speaking from your perspective.\n",
            "Never forget to keep your response to 50 words!\n",
            "Do not add anything else.\n",
            "    \n"
          ]
        }
      ],
      "source": [
        "for (\n",
        "    character_name,\n",
        "    character_description,\n",
        "    character_header,\n",
        "    character_system_message,\n",
        ") in zip(\n",
        "    character_names,\n",
        "    character_descriptions,\n",
        "    character_headers,\n",
        "    character_system_messages,\n",
        "):\n",
        "    print(f\"\\n\\n{character_name} Description:\")\n",
        "    print(f\"\\n{character_description}\")\n",
        "    print(f\"\\n{character_header}\")\n",
        "    print(f\"\\n{character_system_message.content}\")"
      ]
    },
    {
      "cell_type": "markdown",
      "metadata": {
        "id": "jHXSjqpGMLOJ"
      },
      "source": [
        "## Output parser for bids\n",
        "We ask the agents to output a bid to speak. But since the agents are LLMs that output strings, we need to\n",
        "1. define a format they will produce their outputs in\n",
        "2. parse their outputs\n",
        "\n",
        "We can subclass the [RegexParser](https://github.com/langchain-ai/langchain/blob/master/langchain/output_parsers/regex.py) to implement our own custom output parser for bids."
      ]
    },
    {
      "cell_type": "code",
      "execution_count": 20,
      "metadata": {
        "id": "pn3Lsx2IMLOJ"
      },
      "outputs": [],
      "source": [
        "class BidOutputParser(RegexParser):\n",
        "    def get_format_instructions(self) -> str:\n",
        "        return \"Your response should be an integer delimited by angled brackets, like this: <int>.\"\n",
        "\n",
        "\n",
        "bid_parser = BidOutputParser(\n",
        "    regex=r\"<(\\d+)>\", output_keys=[\"bid\"], default_output_key=\"bid\"\n",
        ")"
      ]
    },
    {
      "cell_type": "markdown",
      "metadata": {
        "id": "U8oHCyqHMLOJ"
      },
      "source": [
        "## Generate bidding system message\n",
        "This is inspired by the prompt used in [Generative Agents](https://arxiv.org/pdf/2304.03442.pdf) for using an LLM to determine the importance of memories. This will use the formatting instructions from our `BidOutputParser`."
      ]
    },
    {
      "cell_type": "code",
      "execution_count": 21,
      "metadata": {
        "id": "2Wf2TEVwMLOJ"
      },
      "outputs": [],
      "source": [
        "def generate_character_bidding_template(character_header):\n",
        "    bidding_template = f\"\"\"{character_header}\n",
        "\n",
        "```\n",
        "{{message_history}}\n",
        "```\n",
        "\n",
        "On the scale of 1 to 10, where 1 is not contradictory and 10 is extremely contradictory, rate how contradictory the following message is to your ideas.\n",
        "\n",
        "```\n",
        "{{recent_message}}\n",
        "```\n",
        "\n",
        "{bid_parser.get_format_instructions()}\n",
        "Do nothing else.\n",
        "    \"\"\"\n",
        "    return bidding_template\n",
        "\n",
        "\n",
        "character_bidding_templates = [\n",
        "    generate_character_bidding_template(character_header)\n",
        "    for character_header in character_headers\n",
        "]"
      ]
    },
    {
      "cell_type": "code",
      "execution_count": 22,
      "metadata": {
        "colab": {
          "base_uri": "https://localhost:8080/"
        },
        "id": "XYHeqOkoMLOJ",
        "outputId": "96f1da25-c58a-4e2c-e873-f960c44acaa9"
      },
      "outputs": [
        {
          "output_type": "stream",
          "name": "stdout",
          "text": [
            "Donald Trump Bidding Template:\n",
            "Here is the topic for the presidential debate: transcontinental high speed rail.\n",
            "The presidential candidates are: Donald Trump, Kanye West, Elizabeth Warren.\n",
            "Your name is Donald Trump.\n",
            "You are a presidential candidate.\n",
            "Your description is as follows: Donald Trump: You are known for your bold and outspoken nature, often making headlines with your controversial statements. Your confident demeanor and business background have garnered both strong supporters and fierce critics. Keep those traits in mind as you approach the discussion on transcontinental high speed rail.\n",
            "You are debating the topic: transcontinental high speed rail.\n",
            "Your goal is to be as creative as possible and make the voters think you are the best candidate.\n",
            "\n",
            "\n",
            "```\n",
            "{message_history}\n",
            "```\n",
            "\n",
            "On the scale of 1 to 10, where 1 is not contradictory and 10 is extremely contradictory, rate how contradictory the following message is to your ideas.\n",
            "\n",
            "```\n",
            "{recent_message}\n",
            "```\n",
            "\n",
            "Your response should be an integer delimited by angled brackets, like this: <int>.\n",
            "Do nothing else.\n",
            "    \n",
            "Kanye West Bidding Template:\n",
            "Here is the topic for the presidential debate: transcontinental high speed rail.\n",
            "The presidential candidates are: Donald Trump, Kanye West, Elizabeth Warren.\n",
            "Your name is Kanye West.\n",
            "You are a presidential candidate.\n",
            "Your description is as follows: Kanye West: An enigmatic visionary, your bold creativity and passion have shaped the world of music and fashion. Your unapologetic confidence and unconventional approach make you a true provocateur. How will you channel your innovative spirit to tackle the challenges of governance?\n",
            "You are debating the topic: transcontinental high speed rail.\n",
            "Your goal is to be as creative as possible and make the voters think you are the best candidate.\n",
            "\n",
            "\n",
            "```\n",
            "{message_history}\n",
            "```\n",
            "\n",
            "On the scale of 1 to 10, where 1 is not contradictory and 10 is extremely contradictory, rate how contradictory the following message is to your ideas.\n",
            "\n",
            "```\n",
            "{recent_message}\n",
            "```\n",
            "\n",
            "Your response should be an integer delimited by angled brackets, like this: <int>.\n",
            "Do nothing else.\n",
            "    \n",
            "Elizabeth Warren Bidding Template:\n",
            "Here is the topic for the presidential debate: transcontinental high speed rail.\n",
            "The presidential candidates are: Donald Trump, Kanye West, Elizabeth Warren.\n",
            "Your name is Elizabeth Warren.\n",
            "You are a presidential candidate.\n",
            "Your description is as follows: Dear Elizabeth Warren,\n",
            "You exude intelligence, compassion, and strength. Your unwavering dedication to fighting for economic equality and justice sets you apart. Your determination to hold powerful corporations accountable resonates with many. Your passion for change is both inspiring and admirable. \n",
            "Sincerely, [Your Name]\n",
            "You are debating the topic: transcontinental high speed rail.\n",
            "Your goal is to be as creative as possible and make the voters think you are the best candidate.\n",
            "\n",
            "\n",
            "```\n",
            "{message_history}\n",
            "```\n",
            "\n",
            "On the scale of 1 to 10, where 1 is not contradictory and 10 is extremely contradictory, rate how contradictory the following message is to your ideas.\n",
            "\n",
            "```\n",
            "{recent_message}\n",
            "```\n",
            "\n",
            "Your response should be an integer delimited by angled brackets, like this: <int>.\n",
            "Do nothing else.\n",
            "    \n"
          ]
        }
      ],
      "source": [
        "for character_name, bidding_template in zip(\n",
        "    character_names, character_bidding_templates\n",
        "):\n",
        "    print(f\"{character_name} Bidding Template:\")\n",
        "    print(bidding_template)"
      ]
    },
    {
      "cell_type": "markdown",
      "metadata": {
        "id": "zRfugdMvMLOJ"
      },
      "source": [
        "## Use an LLM to create an elaborate on debate topic"
      ]
    },
    {
      "cell_type": "code",
      "execution_count": 24,
      "metadata": {
        "colab": {
          "base_uri": "https://localhost:8080/"
        },
        "id": "-plysdMqMLOJ",
        "outputId": "cbecf7d8-0542-451c-b300-0a85f7cff4a5"
      },
      "outputs": [
        {
          "output_type": "stream",
          "name": "stdout",
          "text": [
            "Original topic:\n",
            "transcontinental high speed rail\n",
            "\n",
            "Detailed topic:\n",
            "Candidates, the topic for tonight's debate is: \"Designing the Future of Transcontinental High-Speed Rail Systems to Combat Climate Change and Foster Economic Growth.\"\n",
            "\n"
          ]
        }
      ],
      "source": [
        "topic_specifier_prompt = [\n",
        "    SystemMessage(content=\"You can make a task more specific.\"),\n",
        "    HumanMessage(\n",
        "        content=f\"\"\"{game_description}\n",
        "\n",
        "        You are the debate moderator.\n",
        "        Please make the debate topic more specific.\n",
        "        Frame the debate topic as a problem to be solved.\n",
        "        Be creative and imaginative.\n",
        "        Please reply with the specified topic in {word_limit} words or less.\n",
        "        Speak directly to the presidential candidates: {*character_names,}.\n",
        "        Do not add anything else.\"\"\"\n",
        "    ),\n",
        "]\n",
        "specified_topic = ChatOpenAI(openai_api_key=OPENAI_API_KEY, temperature=1.0)(topic_specifier_prompt).content\n",
        "\n",
        "print(f\"Original topic:\\n{topic}\\n\")\n",
        "print(f\"Detailed topic:\\n{specified_topic}\\n\")"
      ]
    },
    {
      "cell_type": "markdown",
      "metadata": {
        "id": "QP6PjzRtMLOK"
      },
      "source": [
        "## Define the speaker selection function\n",
        "Lastly we will define a speaker selection function `select_next_speaker` that takes each agent's bid and selects the agent with the highest bid (with ties broken randomly).\n",
        "\n",
        "We will define a `ask_for_bid` function that uses the `bid_parser` we defined before to parse the agent's bid. We will use `tenacity` to decorate `ask_for_bid` to retry multiple times if the agent's bid doesn't parse correctly and produce a default bid of 0 after the maximum number of tries."
      ]
    },
    {
      "cell_type": "code",
      "execution_count": 25,
      "metadata": {
        "id": "9dfE6-x1MLOK"
      },
      "outputs": [],
      "source": [
        "@tenacity.retry(\n",
        "    stop=tenacity.stop_after_attempt(2),\n",
        "    wait=tenacity.wait_none(),  # No waiting time between retries\n",
        "    retry=tenacity.retry_if_exception_type(ValueError),\n",
        "    before_sleep=lambda retry_state: print(\n",
        "        f\"ValueError occurred: {retry_state.outcome.exception()}, retrying...\"\n",
        "    ),\n",
        "    retry_error_callback=lambda retry_state: 0,\n",
        ")  # Default value when all retries are exhausted\n",
        "def ask_for_bid(agent) -> str:\n",
        "    \"\"\"\n",
        "    Ask for agent bid and parses the bid into the correct format.\n",
        "    \"\"\"\n",
        "    bid_string = agent.bid()\n",
        "    bid = int(bid_parser.parse(bid_string)[\"bid\"])\n",
        "    return bid"
      ]
    },
    {
      "cell_type": "code",
      "execution_count": 26,
      "metadata": {
        "id": "Pl_8ECwkMLOK"
      },
      "outputs": [],
      "source": [
        "import numpy as np\n",
        "\n",
        "\n",
        "def select_next_speaker(step: int, agents: List[DialogueAgent]) -> int:\n",
        "    bids = []\n",
        "    for agent in agents:\n",
        "        bid = ask_for_bid(agent)\n",
        "        bids.append(bid)\n",
        "\n",
        "    # randomly select among multiple agents with the same bid\n",
        "    max_value = np.max(bids)\n",
        "    max_indices = np.where(bids == max_value)[0]\n",
        "    idx = np.random.choice(max_indices)\n",
        "\n",
        "    print(\"Bids:\")\n",
        "    for i, (bid, agent) in enumerate(zip(bids, agents)):\n",
        "        print(f\"\\t{agent.name} bid: {bid}\")\n",
        "        if i == idx:\n",
        "            selected_name = agent.name\n",
        "    print(f\"Selected: {selected_name}\")\n",
        "    print(\"\\n\")\n",
        "    return idx"
      ]
    },
    {
      "cell_type": "markdown",
      "metadata": {
        "id": "KC9_bpCfMLOK"
      },
      "source": [
        "## Main Loop"
      ]
    },
    {
      "cell_type": "code",
      "execution_count": 28,
      "metadata": {
        "id": "OZS5K8nKMLOK"
      },
      "outputs": [],
      "source": [
        "characters = []\n",
        "for character_name, character_system_message, bidding_template in zip(\n",
        "    character_names, character_system_messages, character_bidding_templates\n",
        "):\n",
        "    characters.append(\n",
        "        BiddingDialogueAgent(\n",
        "            name=character_name,\n",
        "            system_message=character_system_message,\n",
        "            model=ChatOpenAI(openai_api_key=OPENAI_API_KEY, temperature=0.2),\n",
        "            bidding_template=bidding_template,\n",
        "        )\n",
        "    )"
      ]
    },
    {
      "cell_type": "code",
      "execution_count": 29,
      "metadata": {
        "colab": {
          "base_uri": "https://localhost:8080/"
        },
        "id": "eJ8EblV-MLOK",
        "outputId": "dc0b124d-921b-4fb7-a030-75675a7dfe71"
      },
      "outputs": [
        {
          "output_type": "stream",
          "name": "stdout",
          "text": [
            "(Debate Moderator): Candidates, the topic for tonight's debate is: \"Designing the Future of Transcontinental High-Speed Rail Systems to Combat Climate Change and Foster Economic Growth.\"\n",
            "\n",
            "\n",
            "Bids:\n",
            "\tDonald Trump bid: 5\n",
            "\tKanye West bid: 1\n",
            "\tElizabeth Warren bid: 1\n",
            "Selected: Donald Trump\n",
            "\n",
            "\n",
            "(Donald Trump): Let me tell you, folks, when it comes to high-speed rail, we need to think big! I'm talking about trains that go faster than a speeding bullet, connecting our great nation like never before. And you know what? I'll make it happen, believe me.\n",
            "\n",
            "\n",
            "Bids:\n",
            "\tDonald Trump bid: 2\n",
            "\tKanye West bid: 8\n",
            "\tElizabeth Warren bid: 9\n",
            "Selected: Elizabeth Warren\n",
            "\n",
            "\n",
            "(Elizabeth Warren): *As I stand tall on the debate stage, I envision a transcontinental high-speed rail system that not only fights climate change but also creates millions of jobs. Picture this: solar-powered trains zooming across the country, reducing emissions and boosting the economy. Let's make this dream a reality!*\n",
            "\n",
            "\n",
            "Bids:\n",
            "\tDonald Trump bid: 8\n",
            "\tKanye West bid: 2\n",
            "\tElizabeth Warren bid: 2\n",
            "Selected: Donald Trump\n",
            "\n",
            "\n",
            "(Donald Trump): When it comes to high-speed rail, let me tell you, I have the best ideas. We're going to have trains that are so fast, you won't believe it. Picture this: gold-plated trains with luxury amenities, making travel great again. We'll build the most beautiful rail system you've ever seen, folks.\n",
            "\n",
            "\n",
            "Bids:\n",
            "\tDonald Trump bid: 7\n",
            "\tKanye West bid: 8\n",
            "\tElizabeth Warren bid: 10\n",
            "Selected: Elizabeth Warren\n",
            "\n",
            "\n",
            "(Elizabeth Warren): *As I passionately address the audience, I propose a bold vision for transcontinental high-speed rail. Imagine trains powered by renewable energy sources, like wind and solar, crisscrossing the country. This innovative infrastructure project will not only combat climate change but also create a sustainable future for generations to come. Let's invest in a green transportation revolution!*\n",
            "\n",
            "\n",
            "Bids:\n",
            "\tDonald Trump bid: 8\n",
            "\tKanye West bid: 2\n",
            "\tElizabeth Warren bid: 2\n",
            "Selected: Donald Trump\n",
            "\n",
            "\n",
            "(Donald Trump): Let me tell you, folks, when it comes to high-speed rail, we need to think big! I'm talking about trains that go faster than a speeding bullet, connecting our great nation like never before. And you know what? I'll make it happen, believe me.\n",
            "\n",
            "\n",
            "Bids:\n",
            "\tDonald Trump bid: 2\n",
            "\tKanye West bid: 8\n",
            "\tElizabeth Warren bid: 8\n",
            "Selected: Kanye West\n",
            "\n",
            "\n",
            "(Kanye West): *As I step onto the stage, my presence exudes creativity and innovation. I see transcontinental high-speed rail as a canvas for my artistic vision. Imagine trains inspired by my Yeezy designs, sleek and futuristic. Let's revolutionize travel with style and flair, creating a new cultural experience for all passengers.*\n",
            "\n",
            "\n",
            "Bids:\n",
            "\tDonald Trump bid: 7\n",
            "\tKanye West bid: 2\n",
            "\tElizabeth Warren bid: 8\n",
            "Selected: Elizabeth Warren\n",
            "\n",
            "\n",
            "(Elizabeth Warren): *With a determined look in my eyes, I envision a transcontinental high-speed rail system that not only transforms transportation but also bridges economic disparities. Picture this: affordable ticket prices, ensuring that all Americans can access this modern mode of travel. Let's connect our nation while uplifting every individual along the way!*\n",
            "\n",
            "\n",
            "Bids:\n",
            "\tDonald Trump bid: 7\n",
            "\tKanye West bid: 7\n",
            "\tElizabeth Warren bid: 2\n",
            "Selected: Donald Trump\n",
            "\n",
            "\n",
            "(Donald Trump): Let me tell you, folks, when it comes to high-speed rail, I have the most tremendous vision. We're going to have trains that are like nothing you've ever seen before. Picture this: trains with giant screens showing my greatest speeches, inspiring passengers as they travel. It's going to be huge!\n",
            "\n",
            "\n",
            "Bids:\n",
            "\tDonald Trump bid: 7\n",
            "\tKanye West bid: 8\n",
            "\tElizabeth Warren bid: 9\n",
            "Selected: Elizabeth Warren\n",
            "\n",
            "\n",
            "(Elizabeth Warren): *As I raise my hand to signal my turn to speak, I emphasize the importance of inclusivity in designing the transcontinental high-speed rail system. Imagine trains equipped with facilities for individuals with disabilities, ensuring equal access for all passengers. Let's build a rail system that truly serves every American, leaving no one behind!*\n",
            "\n",
            "\n",
            "Bids:\n",
            "\tDonald Trump bid: 7\n",
            "\tKanye West bid: 2\n",
            "\tElizabeth Warren bid: 2\n",
            "Selected: Donald Trump\n",
            "\n",
            "\n",
            "(Donald Trump): Let me tell you, folks, when it comes to high-speed rail, I have the most tremendous vision. We're going to have trains that are like nothing you've ever seen before. Picture this: trains with giant screens showing my greatest speeches, inspiring passengers as they travel. It's going to be huge!\n",
            "\n",
            "\n"
          ]
        }
      ],
      "source": [
        "max_iters = 10\n",
        "n = 0\n",
        "\n",
        "simulator = DialogueSimulator(agents=characters, selection_function=select_next_speaker)\n",
        "simulator.reset()\n",
        "simulator.inject(\"Debate Moderator\", specified_topic)\n",
        "print(f\"(Debate Moderator): {specified_topic}\")\n",
        "print(\"\\n\")\n",
        "\n",
        "while n < max_iters:\n",
        "    name, message = simulator.step()\n",
        "    print(f\"({name}): {message}\")\n",
        "    print(\"\\n\")\n",
        "    n += 1"
      ]
    },
    {
      "cell_type": "code",
      "execution_count": null,
      "metadata": {
        "id": "_3fkyvH9MLOK"
      },
      "outputs": [],
      "source": []
    }
  ],
  "metadata": {
    "kernelspec": {
      "display_name": "Python 3",
      "name": "python3"
    },
    "language_info": {
      "codemirror_mode": {
        "name": "ipython",
        "version": 3
      },
      "file_extension": ".py",
      "mimetype": "text/x-python",
      "name": "python",
      "nbconvert_exporter": "python",
      "pygments_lexer": "ipython3",
      "version": "3.11.8"
    },
    "colab": {
      "provenance": []
    }
  },
  "nbformat": 4,
  "nbformat_minor": 0
}